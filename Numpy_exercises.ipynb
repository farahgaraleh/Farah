{
  "nbformat": 4,
  "nbformat_minor": 5,
  "metadata": {
    "colab": {
      "name": "Numpy_exercises.ipynb",
      "provenance": [],
      "collapsed_sections": []
    },
    "language_info": {
      "name": "python"
    },
    "kernelspec": {
      "name": "python3",
      "display_name": "Python 3"
    }
  },
  "cells": [
    {
      "cell_type": "markdown",
      "metadata": {
        "id": "bf79c78b"
      },
      "source": [
        "# Numpy exercises\n"
      ],
      "id": "bf79c78b"
    },
    {
      "cell_type": "markdown",
      "metadata": {
        "id": "017db353"
      },
      "source": [
        "#### 1. Import the numpy package under the name `np` (★☆☆) `hint: import … as`"
      ],
      "id": "017db353"
    },
    {
      "cell_type": "code",
      "metadata": {
        "id": "68182a76"
      },
      "source": [
        "import numpy as np"
      ],
      "id": "68182a76",
      "execution_count": 1,
      "outputs": []
    },
    {
      "cell_type": "markdown",
      "metadata": {
        "id": "e3c20b3d"
      },
      "source": [
        "#### 2. Create a null vector of size 10 (★☆☆) `hint: vector is a single raw array`"
      ],
      "id": "e3c20b3d"
    },
    {
      "cell_type": "code",
      "metadata": {
        "id": "8a758bcf",
        "outputId": "49e07adf-d3d2-4b6d-c496-12e1f6386c0d",
        "colab": {
          "base_uri": "https://localhost:8080/"
        }
      },
      "source": [
        "n= np.zeros(10)\n",
        "n"
      ],
      "id": "8a758bcf",
      "execution_count": 23,
      "outputs": [
        {
          "output_type": "execute_result",
          "data": {
            "text/plain": [
              "array([0., 0., 0., 0., 0., 0., 0., 0., 0., 0.])"
            ]
          },
          "metadata": {
            "tags": []
          },
          "execution_count": 23
        }
      ]
    },
    {
      "cell_type": "markdown",
      "metadata": {
        "id": "b15a879f"
      },
      "source": [
        "#### 3. How to find the memory size of any array, creat a random 5x6 array and check the sizs (★☆☆)"
      ],
      "id": "b15a879f"
    },
    {
      "cell_type": "code",
      "metadata": {
        "id": "1cc3cbc5",
        "outputId": "980fd8a0-fa8e-4af4-944d-2cb8e49e1091",
        "colab": {
          "base_uri": "https://localhost:8080/"
        }
      },
      "source": [
        "x = np.random.randint(30,size=( 5, 6))\n",
        "x.size"
      ],
      "id": "1cc3cbc5",
      "execution_count": 75,
      "outputs": [
        {
          "output_type": "execute_result",
          "data": {
            "text/plain": [
              "30"
            ]
          },
          "metadata": {
            "tags": []
          },
          "execution_count": 75
        }
      ]
    },
    {
      "cell_type": "markdown",
      "metadata": {
        "id": "0a708990"
      },
      "source": [
        "#### 4. How to get the documentation of the numpy add function from the command line? (★☆☆) `hint: use info or ?`"
      ],
      "id": "0a708990"
    },
    {
      "cell_type": "code",
      "metadata": {
        "id": "477e01f4"
      },
      "source": [
        "? np.add(x,x2)"
      ],
      "id": "477e01f4",
      "execution_count": 21,
      "outputs": []
    },
    {
      "cell_type": "code",
      "metadata": {
        "id": "17Xmf8JqSaP8"
      },
      "source": [
        "x2 = np.random.randint(30,size=( 5, 6))"
      ],
      "id": "17Xmf8JqSaP8",
      "execution_count": 19,
      "outputs": []
    },
    {
      "cell_type": "markdown",
      "metadata": {
        "id": "0b16cd77"
      },
      "source": [
        "#### 5. Create a null vector of size 10 but the fifth value which is 1 (★☆☆) `hint: array[x]`"
      ],
      "id": "0b16cd77"
    },
    {
      "cell_type": "code",
      "metadata": {
        "id": "4d9b5975",
        "outputId": "280e59d5-8515-4249-f42b-4d3c64026859",
        "colab": {
          "base_uri": "https://localhost:8080/"
        }
      },
      "source": [
        "n= np.zeros(10)\n",
        "n[4]=1\n",
        "n"
      ],
      "id": "4d9b5975",
      "execution_count": 24,
      "outputs": [
        {
          "output_type": "execute_result",
          "data": {
            "text/plain": [
              "array([0., 0., 0., 0., 1., 0., 0., 0., 0., 0.])"
            ]
          },
          "metadata": {
            "tags": []
          },
          "execution_count": 24
        }
      ]
    },
    {
      "cell_type": "markdown",
      "metadata": {
        "id": "782d4c77"
      },
      "source": [
        "#### 7. Create a vector (single raw array) with values ranging from 10 to 49 (★☆☆) `hint: arange`"
      ],
      "id": "782d4c77"
    },
    {
      "cell_type": "code",
      "metadata": {
        "id": "5dbe1a08",
        "outputId": "dd54b6b0-7a51-4f56-aede-63798769f520",
        "colab": {
          "base_uri": "https://localhost:8080/"
        }
      },
      "source": [
        "m= np.arange(10,50)\n",
        "m"
      ],
      "id": "5dbe1a08",
      "execution_count": 53,
      "outputs": [
        {
          "output_type": "execute_result",
          "data": {
            "text/plain": [
              "array([10, 11, 12, 13, 14, 15, 16, 17, 18, 19, 20, 21, 22, 23, 24, 25, 26,\n",
              "       27, 28, 29, 30, 31, 32, 33, 34, 35, 36, 37, 38, 39, 40, 41, 42, 43,\n",
              "       44, 45, 46, 47, 48, 49])"
            ]
          },
          "metadata": {
            "tags": []
          },
          "execution_count": 53
        }
      ]
    },
    {
      "cell_type": "markdown",
      "metadata": {
        "id": "48d48f01"
      },
      "source": [
        "#### 8. Show how you can Reverse a vector (first element becomes last) (★☆☆)`hint: use index of -1`"
      ],
      "id": "48d48f01"
    },
    {
      "cell_type": "code",
      "metadata": {
        "id": "3ed233e7",
        "outputId": "17c5be44-bf0d-4964-c55d-fd26ff8d2483",
        "colab": {
          "base_uri": "https://localhost:8080/"
        }
      },
      "source": [
        "last=m[-1]\n",
        "m[-1] =m[0]\n",
        "m[0]= last\n",
        "m"
      ],
      "id": "3ed233e7",
      "execution_count": 54,
      "outputs": [
        {
          "output_type": "execute_result",
          "data": {
            "text/plain": [
              "array([49, 11, 12, 13, 14, 15, 16, 17, 18, 19, 20, 21, 22, 23, 24, 25, 26,\n",
              "       27, 28, 29, 30, 31, 32, 33, 34, 35, 36, 37, 38, 39, 40, 41, 42, 43,\n",
              "       44, 45, 46, 47, 48, 10])"
            ]
          },
          "metadata": {
            "tags": []
          },
          "execution_count": 54
        }
      ]
    },
    {
      "cell_type": "markdown",
      "metadata": {
        "id": "4fa39382"
      },
      "source": [
        "#### 9. Create a 3x3 matrix with values ranging from 0 to 8 (★☆☆) `hint: use range and reshape!`"
      ],
      "id": "4fa39382"
    },
    {
      "cell_type": "code",
      "metadata": {
        "id": "c97757ec",
        "outputId": "7bbb6891-b797-4a34-d180-19ff09c9634b",
        "colab": {
          "base_uri": "https://localhost:8080/"
        }
      },
      "source": [
        "matr=np.arange(0,9)\n",
        "matr.reshape(3,3)"
      ],
      "id": "c97757ec",
      "execution_count": 56,
      "outputs": [
        {
          "output_type": "execute_result",
          "data": {
            "text/plain": [
              "array([[0, 1, 2],\n",
              "       [3, 4, 5],\n",
              "       [6, 7, 8]])"
            ]
          },
          "metadata": {
            "tags": []
          },
          "execution_count": 56
        }
      ]
    },
    {
      "cell_type": "markdown",
      "metadata": {
        "id": "da64551a"
      },
      "source": [
        "#### 10. Find indices of non-zero elements from [1,2,0,0,4,0] (★☆☆) `hint: use the np.nonzero`"
      ],
      "id": "da64551a"
    },
    {
      "cell_type": "code",
      "metadata": {
        "id": "327f7adb",
        "outputId": "b72d4bbb-fa4a-4a48-ebdc-685ae44f5133",
        "colab": {
          "base_uri": "https://localhost:8080/"
        }
      },
      "source": [
        "L1=[1,2,0,0,4,0]\n",
        "np.nonzero(L1)"
      ],
      "id": "327f7adb",
      "execution_count": 57,
      "outputs": [
        {
          "output_type": "execute_result",
          "data": {
            "text/plain": [
              "(array([0, 1, 4]),)"
            ]
          },
          "metadata": {
            "tags": []
          },
          "execution_count": 57
        }
      ]
    },
    {
      "cell_type": "markdown",
      "metadata": {
        "id": "f89d9c9e"
      },
      "source": [
        "#### 11. Create a 3x3 identity matrix (★☆☆) `hint: use index and use np.eye`\n",
        "the following is an example of 5x4 identity matrix\n",
        "\n",
        "\n",
        "```\n",
        "[[1. 0. 0. 0. 0.]\n",
        " [0. 1. 0. 0. 0.]\n",
        " [0. 0. 1. 0. 0.]\n",
        " [0. 0. 0. 1. 0.]\n",
        " [0. 0. 0. 0. 1.]]\n",
        "\n",
        "```\n",
        "\n"
      ],
      "id": "f89d9c9e"
    },
    {
      "cell_type": "code",
      "metadata": {
        "id": "ba625832",
        "outputId": "0c8fbe3e-9a6a-44d9-9e17-7ff08996989b",
        "colab": {
          "base_uri": "https://localhost:8080/"
        }
      },
      "source": [
        "i=np.eye(3)\n",
        "i"
      ],
      "id": "ba625832",
      "execution_count": 60,
      "outputs": [
        {
          "output_type": "execute_result",
          "data": {
            "text/plain": [
              "array([[1., 0., 0.],\n",
              "       [0., 1., 0.],\n",
              "       [0., 0., 1.]])"
            ]
          },
          "metadata": {
            "tags": []
          },
          "execution_count": 60
        }
      ]
    },
    {
      "cell_type": "markdown",
      "metadata": {
        "id": "7e44c6fa"
      },
      "source": [
        "#### 12. Create a 3x3x3 array with random values (★☆☆) `hint: np.random.random`"
      ],
      "id": "7e44c6fa"
    },
    {
      "cell_type": "code",
      "metadata": {
        "id": "1cb3dddf",
        "outputId": "07fac908-977b-4ca6-ce71-a991768fe763",
        "colab": {
          "base_uri": "https://localhost:8080/"
        }
      },
      "source": [
        "j = np.random.random((3,3,3))\n",
        "j"
      ],
      "id": "1cb3dddf",
      "execution_count": 64,
      "outputs": [
        {
          "output_type": "execute_result",
          "data": {
            "text/plain": [
              "array([[[0.59937194, 0.95590212, 0.91970241],\n",
              "        [0.4168151 , 0.17679563, 0.96902764],\n",
              "        [0.46581413, 0.15652941, 0.58252795]],\n",
              "\n",
              "       [[0.7596878 , 0.34860441, 0.49431857],\n",
              "        [0.4859311 , 0.83495351, 0.56662962],\n",
              "        [0.35281545, 0.78089314, 0.1821257 ]],\n",
              "\n",
              "       [[0.72887027, 0.10570333, 0.97206809],\n",
              "        [0.23300429, 0.27617466, 0.36100016],\n",
              "        [0.30597059, 0.04046316, 0.54980908]]])"
            ]
          },
          "metadata": {
            "tags": []
          },
          "execution_count": 64
        }
      ]
    },
    {
      "cell_type": "markdown",
      "metadata": {
        "id": "13c5928c"
      },
      "source": [
        "#### 13. Create a 10x10 array with random values and find the minimum and maximum values (★☆☆) `hint: min, max`"
      ],
      "id": "13c5928c"
    },
    {
      "cell_type": "code",
      "metadata": {
        "id": "911c9b93",
        "outputId": "a051bc33-a550-4953-9745-de91d23dd3c4",
        "colab": {
          "base_uri": "https://localhost:8080/"
        }
      },
      "source": [
        "z = np.random.random((10,10))\n",
        "minimum=np.min(z)\n",
        "\n",
        "minimum\n"
      ],
      "id": "911c9b93",
      "execution_count": 72,
      "outputs": [
        {
          "output_type": "execute_result",
          "data": {
            "text/plain": [
              "0.014666520765177604"
            ]
          },
          "metadata": {
            "tags": []
          },
          "execution_count": 72
        }
      ]
    },
    {
      "cell_type": "code",
      "metadata": {
        "id": "3fQwh7ToYSZd",
        "outputId": "c59323d1-8f20-4fcd-cd16-aa6209fd71c3",
        "colab": {
          "base_uri": "https://localhost:8080/"
        }
      },
      "source": [
        "maximum= np.max(z)\n",
        "maximum"
      ],
      "id": "3fQwh7ToYSZd",
      "execution_count": 73,
      "outputs": [
        {
          "output_type": "execute_result",
          "data": {
            "text/plain": [
              "0.997223578369916"
            ]
          },
          "metadata": {
            "tags": []
          },
          "execution_count": 73
        }
      ]
    },
    {
      "cell_type": "markdown",
      "metadata": {
        "id": "3fa2e461"
      },
      "source": [
        "#### 14. Create a random vector of size 30 and find the mean value (★☆☆) `hint: mean`"
      ],
      "id": "3fa2e461"
    },
    {
      "cell_type": "code",
      "metadata": {
        "id": "323eb38a",
        "outputId": "c52d26b7-04f9-4e69-efe0-f816c65aca2d",
        "colab": {
          "base_uri": "https://localhost:8080/"
        }
      },
      "source": [
        "ran = np.random.randint(30)\n",
        "mean=np.mean(ran)\n",
        "mean"
      ],
      "id": "323eb38a",
      "execution_count": 79,
      "outputs": [
        {
          "output_type": "execute_result",
          "data": {
            "text/plain": [
              "12.0"
            ]
          },
          "metadata": {
            "tags": []
          },
          "execution_count": 79
        }
      ]
    },
    {
      "cell_type": "markdown",
      "metadata": {
        "id": "73f7a549"
      },
      "source": [
        "#### 15. Create a 2d array as following, with 1 on the border and 0 inside.. see generated array (★☆☆)\n",
        "\n",
        "\n",
        "\n",
        "```\n",
        "[[1. 1. 1. 1. 1. 1. 1. 1. 1. 1.]\n",
        " [1. 0. 0. 0. 0. 0. 0. 0. 0. 1.]\n",
        " [1. 0. 0. 0. 0. 0. 0. 0. 0. 1.]\n",
        " [1. 0. 0. 0. 0. 0. 0. 0. 0. 1.]\n",
        " [1. 0. 0. 0. 0. 0. 0. 0. 0. 1.]\n",
        " [1. 0. 0. 0. 0. 0. 0. 0. 0. 1.]\n",
        " [1. 0. 0. 0. 0. 0. 0. 0. 0. 1.]\n",
        " [1. 0. 0. 0. 0. 0. 0. 0. 0. 1.]\n",
        " [1. 0. 0. 0. 0. 0. 0. 0. 0. 1.]\n",
        " [1. 1. 1. 1. 1. 1. 1. 1. 1. 1.]]\n",
        "```\n",
        "\n"
      ],
      "id": "73f7a549"
    },
    {
      "cell_type": "code",
      "metadata": {
        "id": "e3a6807d",
        "outputId": "21feae0d-5c37-4fc1-cd4a-83ecb16382d0",
        "colab": {
          "base_uri": "https://localhost:8080/"
        }
      },
      "source": [
        "# Your code\n",
        "one=np.ones((6,10))\n",
        "one[1:-1,1:-1]=0\n",
        "one"
      ],
      "id": "e3a6807d",
      "execution_count": 81,
      "outputs": [
        {
          "output_type": "execute_result",
          "data": {
            "text/plain": [
              "array([[1., 1., 1., 1., 1., 1., 1., 1., 1., 1.],\n",
              "       [1., 0., 0., 0., 0., 0., 0., 0., 0., 1.],\n",
              "       [1., 0., 0., 0., 0., 0., 0., 0., 0., 1.],\n",
              "       [1., 0., 0., 0., 0., 0., 0., 0., 0., 1.],\n",
              "       [1., 0., 0., 0., 0., 0., 0., 0., 0., 1.],\n",
              "       [1., 1., 1., 1., 1., 1., 1., 1., 1., 1.]])"
            ]
          },
          "metadata": {
            "tags": []
          },
          "execution_count": 81
        }
      ]
    },
    {
      "cell_type": "markdown",
      "metadata": {
        "id": "6d0c506f"
      },
      "source": [
        "#### 16. How to add a border (filled with 0's) around an existing array? (★★☆) `hint: see generated array np.pad   `"
      ],
      "id": "6d0c506f"
    },
    {
      "cell_type": "code",
      "metadata": {
        "colab": {
          "base_uri": "https://localhost:8080/"
        },
        "id": "32ffee7b",
        "outputId": "95023c04-1e62-4231-b2e1-e07e34f902b7"
      },
      "source": [
        "zero=np.ones((5,5))\n",
        "zero= np.pad(zero,pad_width=1,mode='constant',constant_values=0)\n",
        "zero"
      ],
      "id": "32ffee7b",
      "execution_count": 85,
      "outputs": [
        {
          "output_type": "execute_result",
          "data": {
            "text/plain": [
              "array([[0., 0., 0., 0., 0., 0., 0.],\n",
              "       [0., 1., 1., 1., 1., 1., 0.],\n",
              "       [0., 1., 1., 1., 1., 1., 0.],\n",
              "       [0., 1., 1., 1., 1., 1., 0.],\n",
              "       [0., 1., 1., 1., 1., 1., 0.],\n",
              "       [0., 1., 1., 1., 1., 1., 0.],\n",
              "       [0., 0., 0., 0., 0., 0., 0.]])"
            ]
          },
          "metadata": {
            "tags": []
          },
          "execution_count": 85
        }
      ]
    },
    {
      "cell_type": "markdown",
      "metadata": {
        "id": "d6ad1a9f"
      },
      "source": [
        "#### 17. What is the result of the following expression? (★☆☆)\n",
        "```python\n",
        "0 * np.nan\n",
        "np.nan == np.nan\n",
        "np.inf > np.nan\n",
        "np.nan - np.nan\n",
        "np.nan in set([np.nan])\n",
        "0.3 == 3 * 0.1\n",
        "```"
      ],
      "id": "d6ad1a9f"
    },
    {
      "cell_type": "code",
      "metadata": {
        "id": "Gy-ydekla3V4",
        "outputId": "1252a84b-1eae-4b23-b544-522377c022a9",
        "colab": {
          "base_uri": "https://localhost:8080/"
        }
      },
      "source": [
        "0 * np.nan\n",
        "np.nan == np.nan\n",
        "np.inf > np.nan\n",
        "np.nan - np.nan\n",
        "np.nan in set([np.nan])\n",
        "0.3 == 3 * 0.1"
      ],
      "id": "Gy-ydekla3V4",
      "execution_count": 86,
      "outputs": [
        {
          "output_type": "execute_result",
          "data": {
            "text/plain": [
              "False"
            ]
          },
          "metadata": {
            "tags": []
          },
          "execution_count": 86
        }
      ]
    },
    {
      "cell_type": "markdown",
      "metadata": {
        "id": "cUiAXyeXApYe"
      },
      "source": [
        " ####18  What is the result of the following expression? (★☆☆) `hint: indexing the nan using np.nan`\n",
        "\n",
        "\n",
        "\n",
        "```\n",
        "Z = np.ones((5,5))\n",
        "Z[0,1]=np.nan\n",
        "Z\n",
        "```\n",
        "\n"
      ],
      "id": "cUiAXyeXApYe"
    },
    {
      "cell_type": "code",
      "metadata": {
        "id": "u3npwK9Ja8Ck",
        "outputId": "596a8fcb-53bc-48a0-dcc3-d5da93874e5c",
        "colab": {
          "base_uri": "https://localhost:8080/"
        }
      },
      "source": [
        "Z = np.ones((5,5))\n",
        "Z[0,1]=np.nan\n",
        "Z"
      ],
      "id": "u3npwK9Ja8Ck",
      "execution_count": 87,
      "outputs": [
        {
          "output_type": "execute_result",
          "data": {
            "text/plain": [
              "array([[ 1., nan,  1.,  1.,  1.],\n",
              "       [ 1.,  1.,  1.,  1.,  1.],\n",
              "       [ 1.,  1.,  1.,  1.,  1.],\n",
              "       [ 1.,  1.,  1.,  1.,  1.],\n",
              "       [ 1.,  1.,  1.,  1.,  1.]])"
            ]
          },
          "metadata": {
            "tags": []
          },
          "execution_count": 87
        }
      ]
    },
    {
      "cell_type": "markdown",
      "metadata": {
        "id": "qujryEWVA4pY"
      },
      "source": [
        "#### 18. Now, use this expression to find the index of your nan\n",
        "\n",
        "\n",
        "```\n",
        "np.argwhere(x!=x)    Hint: x is your array\n",
        "```\n",
        "\n",
        "\n",
        "\n"
      ],
      "id": "qujryEWVA4pY"
    },
    {
      "cell_type": "markdown",
      "metadata": {
        "id": "FvqtyHKDDJbO"
      },
      "source": [
        "20. Generate the following array \n",
        "\n",
        "\n",
        "```\n",
        "array([[ 1,  2,  3,  4],\n",
        "       [ 5,  6,  7,  8],\n",
        "       [ 9, 10, 11, 12],\n",
        "       [13, 14, 15, 16]])\n",
        "```\n",
        "\n"
      ],
      "id": "FvqtyHKDDJbO"
    },
    {
      "cell_type": "code",
      "metadata": {
        "id": "41OqU1ueElVm",
        "outputId": "de42b3bd-b5df-454c-f689-f50f682631c7",
        "colab": {
          "base_uri": "https://localhost:8080/"
        }
      },
      "source": [
        "arr=([[ 1,  2,  3,  4],\n",
        "       [ 5,  6,  7,  8],\n",
        "       [ 9, 10, 11, 12],\n",
        "       [13, 14, 15, 16]])\n",
        "\n",
        "arr2=np.array(arr)\n",
        "np.argwhere(arr2!=arr2)\n"
      ],
      "id": "41OqU1ueElVm",
      "execution_count": 112,
      "outputs": [
        {
          "output_type": "execute_result",
          "data": {
            "text/plain": [
              "array([], shape=(0, 2), dtype=int64)"
            ]
          },
          "metadata": {
            "tags": []
          },
          "execution_count": 112
        }
      ]
    },
    {
      "cell_type": "code",
      "metadata": {
        "id": "QV48vUr_bxHz"
      },
      "source": [
        "np.argwhere(array!=array)"
      ],
      "id": "QV48vUr_bxHz",
      "execution_count": null,
      "outputs": []
    },
    {
      "cell_type": "markdown",
      "metadata": {
        "id": "Nu-kxgXYEw4H"
      },
      "source": [
        "#### 19. Extract the following values `array([ 1,  6, 11, 16])`. ` Hint: use np.diagonal()`"
      ],
      "id": "Nu-kxgXYEw4H"
    },
    {
      "cell_type": "code",
      "metadata": {
        "id": "K75gLJt5AkD2",
        "outputId": "8af521b4-d7bd-46fe-f6bc-249961fb7e2e",
        "colab": {
          "base_uri": "https://localhost:8080/",
          "height": 204
        }
      },
      "source": [
        "s1=[1,6,11,16]\n",
        "s2=np.array(s1)\n",
        "np.diagonal()"
      ],
      "id": "K75gLJt5AkD2",
      "execution_count": 108,
      "outputs": [
        {
          "output_type": "error",
          "ename": "AttributeError",
          "evalue": "ignored",
          "traceback": [
            "\u001b[0;31m---------------------------------------------------------------------------\u001b[0m",
            "\u001b[0;31mAttributeError\u001b[0m                            Traceback (most recent call last)",
            "\u001b[0;32m<ipython-input-108-27f1e08dce8c>\u001b[0m in \u001b[0;36m<module>\u001b[0;34m()\u001b[0m\n\u001b[1;32m      1\u001b[0m \u001b[0ms1\u001b[0m\u001b[0;34m=\u001b[0m\u001b[0;34m[\u001b[0m\u001b[0;36m1\u001b[0m\u001b[0;34m,\u001b[0m\u001b[0;36m6\u001b[0m\u001b[0;34m,\u001b[0m\u001b[0;36m11\u001b[0m\u001b[0;34m,\u001b[0m\u001b[0;36m16\u001b[0m\u001b[0;34m]\u001b[0m\u001b[0;34m\u001b[0m\u001b[0;34m\u001b[0m\u001b[0m\n\u001b[1;32m      2\u001b[0m \u001b[0ms2\u001b[0m\u001b[0;34m=\u001b[0m\u001b[0mnp\u001b[0m\u001b[0;34m.\u001b[0m\u001b[0marray\u001b[0m\u001b[0;34m(\u001b[0m\u001b[0ms1\u001b[0m\u001b[0;34m)\u001b[0m\u001b[0;34m\u001b[0m\u001b[0;34m\u001b[0m\u001b[0m\n\u001b[0;32m----> 3\u001b[0;31m \u001b[0ms2\u001b[0m\u001b[0;34m.\u001b[0m\u001b[0mnp\u001b[0m\u001b[0;34m.\u001b[0m\u001b[0mdiagonal\u001b[0m\u001b[0;34m(\u001b[0m\u001b[0;34m)\u001b[0m\u001b[0;34m\u001b[0m\u001b[0;34m\u001b[0m\u001b[0m\n\u001b[0m",
            "\u001b[0;31mAttributeError\u001b[0m: 'numpy.ndarray' object has no attribute 'np'"
          ]
        }
      ]
    },
    {
      "cell_type": "code",
      "metadata": {
        "colab": {
          "base_uri": "https://localhost:8080/"
        },
        "id": "bMmo0hIlC2It",
        "outputId": "9bb7af66-dfd0-4512-8d3b-b2ba2de28b9a"
      },
      "source": [
        ""
      ],
      "id": "bMmo0hIlC2It",
      "execution_count": 99,
      "outputs": [
        {
          "output_type": "execute_result",
          "data": {
            "text/plain": [
              "array([[ 1., nan,  1.,  1.,  1.],\n",
              "       [ 1.,  1.,  1.,  1.,  1.],\n",
              "       [ 1.,  1.,  1.,  1.,  1.],\n",
              "       [ 1.,  1.,  1.,  1.,  1.],\n",
              "       [ 1.,  1.,  1.,  1.,  1.]])"
            ]
          },
          "metadata": {
            "tags": []
          },
          "execution_count": 99
        }
      ]
    },
    {
      "cell_type": "markdown",
      "metadata": {
        "id": "e3a7ba7f"
      },
      "source": [
        "#### 20. Try to use `np.diag` to Create a 5x5 matrix with diagonal values 11,11,11,11 (★★☆) Hint: use np.diag with k=0 and [11,11,11,11]. -- diag([11,11,11,11],k=-0)"
      ],
      "id": "e3a7ba7f"
    },
    {
      "cell_type": "code",
      "metadata": {
        "id": "kdcRD27Hd9L1",
        "outputId": "ea3ba523-b106-4ad2-b241-3631a7f81c8d",
        "colab": {
          "base_uri": "https://localhost:8080/"
        }
      },
      "source": [
        "d=np.diag([11,11,11,11,11],k=0)\n",
        "d"
      ],
      "id": "kdcRD27Hd9L1",
      "execution_count": 115,
      "outputs": [
        {
          "output_type": "execute_result",
          "data": {
            "text/plain": [
              "array([[11,  0,  0,  0,  0],\n",
              "       [ 0, 11,  0,  0,  0],\n",
              "       [ 0,  0, 11,  0,  0],\n",
              "       [ 0,  0,  0, 11,  0],\n",
              "       [ 0,  0,  0,  0, 11]])"
            ]
          },
          "metadata": {
            "tags": []
          },
          "execution_count": 115
        }
      ]
    },
    {
      "cell_type": "markdown",
      "metadata": {
        "id": "puqXeNWRF4yG"
      },
      "source": [
        "#### 21.  Create a 5x5 matrix with values 1,2,3,4 just below the diagonal (★☆☆) `Hint: use k=-1 when calling np.diag`"
      ],
      "id": "puqXeNWRF4yG"
    },
    {
      "cell_type": "code",
      "metadata": {
        "colab": {
          "base_uri": "https://localhost:8080/"
        },
        "id": "01d8e257",
        "outputId": "a6240944-2a08-40b6-b1e8-01b5a99778e0"
      },
      "source": [
        "e=np.diag([1,2,3,4],k=-1)\n",
        "e"
      ],
      "id": "01d8e257",
      "execution_count": 116,
      "outputs": [
        {
          "output_type": "execute_result",
          "data": {
            "text/plain": [
              "array([[0, 0, 0, 0, 0],\n",
              "       [1, 0, 0, 0, 0],\n",
              "       [0, 2, 0, 0, 0],\n",
              "       [0, 0, 3, 0, 0],\n",
              "       [0, 0, 0, 4, 0]])"
            ]
          },
          "metadata": {
            "tags": []
          },
          "execution_count": 116
        }
      ]
    },
    {
      "cell_type": "markdown",
      "metadata": {
        "id": "6d17ab5d"
      },
      "source": [
        "####22. Create a 8x8 matrix and fill it with a given pattern (★☆☆) Hint: use np.zeros and do the replace \n",
        "\n",
        "\n",
        "\n",
        "```\n",
        "[['' 'O' '' 'O' '' 'O' '' 'O']\n",
        " ['M' '' 'M' '' 'M' '' 'M' '']\n",
        " ['' 'O' '' 'O' '' 'O' '' 'O']\n",
        " ['M' '' 'M' '' 'M' '' 'M' '']\n",
        " ['' 'O' '' 'O' '' 'O' '' 'O']\n",
        " ['M' '' 'M' '' 'M' '' 'M' '']\n",
        " ['' 'O' '' 'O' '' 'O' '' 'O']\n",
        " ['M' '' 'M' '' 'M' '' 'M' '']]\n",
        "```\n",
        "\n"
      ],
      "id": "6d17ab5d"
    },
    {
      "cell_type": "code",
      "metadata": {
        "colab": {
          "base_uri": "https://localhost:8080/"
        },
        "id": "841373cd",
        "outputId": "499db773-6b5d-4e05-dc3f-297512e8ea02"
      },
      "source": [
        "f=np.zeros((8,8))\n",
        "f.astype(str)\n"
      ],
      "id": "841373cd",
      "execution_count": 121,
      "outputs": [
        {
          "output_type": "execute_result",
          "data": {
            "text/plain": [
              "array([['0.0', '0.0', '0.0', '0.0', '0.0', '0.0', '0.0', '0.0'],\n",
              "       ['0.0', '0.0', '0.0', '0.0', '0.0', '0.0', '0.0', '0.0'],\n",
              "       ['0.0', '0.0', '0.0', '0.0', '0.0', '0.0', '0.0', '0.0'],\n",
              "       ['0.0', '0.0', '0.0', '0.0', '0.0', '0.0', '0.0', '0.0'],\n",
              "       ['0.0', '0.0', '0.0', '0.0', '0.0', '0.0', '0.0', '0.0'],\n",
              "       ['0.0', '0.0', '0.0', '0.0', '0.0', '0.0', '0.0', '0.0'],\n",
              "       ['0.0', '0.0', '0.0', '0.0', '0.0', '0.0', '0.0', '0.0'],\n",
              "       ['0.0', '0.0', '0.0', '0.0', '0.0', '0.0', '0.0', '0.0']],\n",
              "      dtype='<U32')"
            ]
          },
          "metadata": {
            "tags": []
          },
          "execution_count": 121
        }
      ]
    },
    {
      "cell_type": "code",
      "metadata": {
        "id": "q8I6QkrngJCm",
        "outputId": "16624192-1874-43da-eb25-098e993c1a73",
        "colab": {
          "base_uri": "https://localhost:8080/",
          "height": 204
        }
      },
      "source": [
        "f[1::2,::2] = 'O'\n",
        "f[0::2,::2] =''\n",
        "f[2::2,::2] ='M'"
      ],
      "id": "q8I6QkrngJCm",
      "execution_count": 124,
      "outputs": [
        {
          "output_type": "error",
          "ename": "ValueError",
          "evalue": "ignored",
          "traceback": [
            "\u001b[0;31m---------------------------------------------------------------------------\u001b[0m",
            "\u001b[0;31mValueError\u001b[0m                                Traceback (most recent call last)",
            "\u001b[0;32m<ipython-input-124-fe5ec53e6e30>\u001b[0m in \u001b[0;36m<module>\u001b[0;34m()\u001b[0m\n\u001b[0;32m----> 1\u001b[0;31m \u001b[0mf\u001b[0m\u001b[0;34m[\u001b[0m\u001b[0;36m1\u001b[0m\u001b[0;34m:\u001b[0m\u001b[0;34m:\u001b[0m\u001b[0;36m2\u001b[0m\u001b[0;34m,\u001b[0m\u001b[0;34m:\u001b[0m\u001b[0;34m:\u001b[0m\u001b[0;36m2\u001b[0m\u001b[0;34m]\u001b[0m \u001b[0;34m=\u001b[0m \u001b[0;34m'O'\u001b[0m\u001b[0;34m\u001b[0m\u001b[0;34m\u001b[0m\u001b[0m\n\u001b[0m\u001b[1;32m      2\u001b[0m \u001b[0mf\u001b[0m\u001b[0;34m[\u001b[0m\u001b[0;36m0\u001b[0m\u001b[0;34m:\u001b[0m\u001b[0;34m:\u001b[0m\u001b[0;36m2\u001b[0m\u001b[0;34m,\u001b[0m\u001b[0;34m:\u001b[0m\u001b[0;34m:\u001b[0m\u001b[0;36m2\u001b[0m\u001b[0;34m]\u001b[0m \u001b[0;34m=\u001b[0m\u001b[0;34m''\u001b[0m\u001b[0;34m\u001b[0m\u001b[0;34m\u001b[0m\u001b[0m\n\u001b[1;32m      3\u001b[0m \u001b[0mf\u001b[0m\u001b[0;34m[\u001b[0m\u001b[0;36m2\u001b[0m\u001b[0;34m:\u001b[0m\u001b[0;34m:\u001b[0m\u001b[0;36m2\u001b[0m\u001b[0;34m,\u001b[0m\u001b[0;34m:\u001b[0m\u001b[0;34m:\u001b[0m\u001b[0;36m2\u001b[0m\u001b[0;34m]\u001b[0m \u001b[0;34m=\u001b[0m\u001b[0;34m'M'\u001b[0m\u001b[0;34m\u001b[0m\u001b[0;34m\u001b[0m\u001b[0m\n",
            "\u001b[0;31mValueError\u001b[0m: could not convert string to float: 'O'"
          ]
        }
      ]
    },
    {
      "cell_type": "markdown",
      "metadata": {
        "id": "TWPMKIRMG5B-"
      },
      "source": [
        "#### 23. Use the `np.tile` to generate the same pattern \n",
        "\n",
        "```\n",
        "[['' 'O' '' 'O' '' 'O' '' 'O']\n",
        " ['M' '' 'M' '' 'M' '' 'M' '']\n",
        " ['' 'O' '' 'O' '' 'O' '' 'O']\n",
        " ['M' '' 'M' '' 'M' '' 'M' '']\n",
        " ['' 'O' '' 'O' '' 'O' '' 'O']\n",
        " ['M' '' 'M' '' 'M' '' 'M' '']\n",
        " ['' 'O' '' 'O' '' 'O' '' 'O']\n",
        " ['M' '' 'M' '' 'M' '' 'M' '']]\n",
        "```\n",
        "\n"
      ],
      "id": "TWPMKIRMG5B-"
    },
    {
      "cell_type": "code",
      "metadata": {
        "colab": {
          "base_uri": "https://localhost:8080/"
        },
        "id": "0a4f919f",
        "outputId": "acd982d3-cc5c-449e-8f33-afb07bc7a0b0"
      },
      "source": [
        ""
      ],
      "id": "0a4f919f",
      "execution_count": null,
      "outputs": [
        {
          "output_type": "stream",
          "text": [
            "[['' 'O' '' 'O' '' 'O' '' 'O']\n",
            " ['M' '' 'M' '' 'M' '' 'M' '']\n",
            " ['' 'O' '' 'O' '' 'O' '' 'O']\n",
            " ['M' '' 'M' '' 'M' '' 'M' '']\n",
            " ['' 'O' '' 'O' '' 'O' '' 'O']\n",
            " ['M' '' 'M' '' 'M' '' 'M' '']\n",
            " ['' 'O' '' 'O' '' 'O' '' 'O']\n",
            " ['M' '' 'M' '' 'M' '' 'M' '']]\n"
          ],
          "name": "stdout"
        }
      ]
    },
    {
      "cell_type": "markdown",
      "metadata": {
        "id": "391791e0"
      },
      "source": [
        "#### 24. Generate then Normalize a 5x5 random matrix (★☆☆)  `hint: Normalization_array = (x_arr -mean_value(x))/std_value(x)`"
      ],
      "id": "391791e0"
    },
    {
      "cell_type": "code",
      "metadata": {
        "id": "f6533d39",
        "outputId": "d5d8baa7-5ab3-4b21-d881-31cc44414a13",
        "colab": {
          "base_uri": "https://localhost:8080/",
          "height": 204
        }
      },
      "source": [
        "nor = np.random.random((5,5))\n",
        "mean_value = np.mean(nor)\n",
        "std_value = np.std(nor)\n",
        "Normalization_array =(nor  - mean_value(x))/std_value(x)\n"
      ],
      "id": "f6533d39",
      "execution_count": 126,
      "outputs": [
        {
          "output_type": "error",
          "ename": "NameError",
          "evalue": "ignored",
          "traceback": [
            "\u001b[0;31m---------------------------------------------------------------------------\u001b[0m",
            "\u001b[0;31mNameError\u001b[0m                                 Traceback (most recent call last)",
            "\u001b[0;32m<ipython-input-126-ab332c3dac48>\u001b[0m in \u001b[0;36m<module>\u001b[0;34m()\u001b[0m\n\u001b[1;32m      2\u001b[0m \u001b[0mmean_value\u001b[0m \u001b[0;34m=\u001b[0m \u001b[0mnp\u001b[0m\u001b[0;34m.\u001b[0m\u001b[0mmean\u001b[0m\u001b[0;34m(\u001b[0m\u001b[0mnor\u001b[0m\u001b[0;34m)\u001b[0m\u001b[0;34m\u001b[0m\u001b[0;34m\u001b[0m\u001b[0m\n\u001b[1;32m      3\u001b[0m \u001b[0mstd_value\u001b[0m \u001b[0;34m=\u001b[0m \u001b[0mnp\u001b[0m\u001b[0;34m.\u001b[0m\u001b[0mstd\u001b[0m\u001b[0;34m(\u001b[0m\u001b[0mnor\u001b[0m\u001b[0;34m)\u001b[0m\u001b[0;34m\u001b[0m\u001b[0;34m\u001b[0m\u001b[0m\n\u001b[0;32m----> 4\u001b[0;31m \u001b[0mNormalization_array\u001b[0m \u001b[0;34m=\u001b[0m\u001b[0;34m(\u001b[0m\u001b[0mnor_arr\u001b[0m  \u001b[0;34m-\u001b[0m \u001b[0mmean_value\u001b[0m\u001b[0;34m(\u001b[0m\u001b[0mx\u001b[0m\u001b[0;34m)\u001b[0m\u001b[0;34m)\u001b[0m\u001b[0;34m/\u001b[0m\u001b[0mstd_value\u001b[0m\u001b[0;34m(\u001b[0m\u001b[0mx\u001b[0m\u001b[0;34m)\u001b[0m\u001b[0;34m\u001b[0m\u001b[0;34m\u001b[0m\u001b[0m\n\u001b[0m",
            "\u001b[0;31mNameError\u001b[0m: name 'nor_arr' is not defined"
          ]
        }
      ]
    },
    {
      "cell_type": "markdown",
      "metadata": {
        "id": "51898680"
      },
      "source": [
        "#### 25. generate any 1D array, negate all elements which are between 3 and 8, in place. (★☆☆)\n",
        "\n",
        "where \n",
        "\n",
        "```\n",
        "array([ 0,  1,  2,  3,  4,  5,  6,  7,  8,  9, 10])\n",
        "```\n",
        "will return\n",
        "\n",
        "```\n",
        "[ 0  1  2  3 -4 -5 -6 -7  8  9 10]\n",
        "```\n",
        "\n",
        "\n"
      ],
      "id": "51898680"
    },
    {
      "cell_type": "code",
      "metadata": {
        "id": "0B_w_AsehIJ1"
      },
      "source": [
        ""
      ],
      "id": "0B_w_AsehIJ1",
      "execution_count": null,
      "outputs": []
    },
    {
      "cell_type": "code",
      "metadata": {
        "colab": {
          "base_uri": "https://localhost:8080/"
        },
        "id": "51c90f2d",
        "outputId": "8df9b127-1948-4390-e0cd-c9f985e051d3"
      },
      "source": [
        "p = np.arange(11)\n",
        "for \n",
        "# Your code here!. "
      ],
      "id": "51c90f2d",
      "execution_count": null,
      "outputs": [
        {
          "output_type": "execute_result",
          "data": {
            "text/plain": [
              "array([ 0,  1,  2,  3,  4,  5,  6,  7,  8,  9, 10])"
            ]
          },
          "metadata": {
            "tags": []
          },
          "execution_count": 72
        }
      ]
    },
    {
      "cell_type": "markdown",
      "metadata": {
        "id": "ebd10810"
      },
      "source": [
        "#### 26. Consider an integer vector Z, comment any iligal expressions (★☆☆)\n",
        "```python\n",
        "Z**Z\n",
        "2 << Z >> 2\n",
        "Z <- Z\n",
        "1j*Z\n",
        "Z/1/1\n",
        "Z<Z>Z\n",
        "```"
      ],
      "id": "ebd10810"
    },
    {
      "cell_type": "code",
      "metadata": {
        "id": "GPHf_u70qIqJ"
      },
      "source": [
        ""
      ],
      "id": "GPHf_u70qIqJ",
      "execution_count": null,
      "outputs": []
    },
    {
      "cell_type": "markdown",
      "metadata": {
        "id": "f1ae2c2d"
      },
      "source": [
        "#### 27. Generate two randon 1D array, How to find common values between two arrays? (★☆☆) `Hint: use intersect1d(Arr1,Arr2)`"
      ],
      "id": "f1ae2c2d"
    },
    {
      "cell_type": "code",
      "metadata": {
        "id": "6801c73d"
      },
      "source": [
        "\n"
      ],
      "id": "6801c73d",
      "execution_count": null,
      "outputs": []
    },
    {
      "cell_type": "markdown",
      "metadata": {
        "id": "34a7bdee"
      },
      "source": [
        "#### 28. How to ignore all numpy warnings (not recommended)? (★☆☆)"
      ],
      "id": "34a7bdee"
    },
    {
      "cell_type": "code",
      "metadata": {
        "id": "befc60d1"
      },
      "source": [
        ""
      ],
      "id": "befc60d1",
      "execution_count": null,
      "outputs": []
    },
    {
      "cell_type": "markdown",
      "metadata": {
        "id": "37bc0973"
      },
      "source": [
        "####29. Is the following expressions true? (★☆☆)\n",
        "```python\n",
        "np.sqrt(-1) == np.emath.sqrt(-1)\n",
        "```"
      ],
      "id": "37bc0973"
    }
  ]
}