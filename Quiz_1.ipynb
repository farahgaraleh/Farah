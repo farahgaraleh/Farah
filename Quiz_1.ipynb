{
  "nbformat": 4,
  "nbformat_minor": 0,
  "metadata": {
    "colab": {
      "name": "Quiz-1.ipynb",
      "provenance": [],
      "collapsed_sections": []
    },
    "kernelspec": {
      "name": "python3",
      "display_name": "Python 3"
    },
    "language_info": {
      "name": "python"
    }
  },
  "cells": [
    {
      "cell_type": "markdown",
      "metadata": {
        "id": "PVK6TOZi-y0I"
      },
      "source": [
        "Please follow the questions sequence on your quiz interface and fill in the corresponding answer."
      ]
    },
    {
      "cell_type": "markdown",
      "metadata": {
        "id": "hrPj_EBo-HAs"
      },
      "source": [
        "##Quiz 1"
      ]
    },
    {
      "cell_type": "code",
      "metadata": {
        "id": "Hb4916l0-Fp0",
        "outputId": "9cc81ef9-692b-403b-e13a-7a19eb6e5078",
        "colab": {
          "base_uri": "https://localhost:8080/"
        }
      },
      "source": [
        "#Q1 code goes here\n",
        "#......\n",
        "a,b=1,0\n",
        "a=a^b\n",
        "b=a^b\n",
        "a=a^b\n",
        "print(a)"
      ],
      "execution_count": 1,
      "outputs": [
        {
          "output_type": "stream",
          "text": [
            "0\n"
          ],
          "name": "stdout"
        }
      ]
    },
    {
      "cell_type": "code",
      "metadata": {
        "id": "p4M6g5fV-UjY",
        "outputId": "6711d7fa-2003-4066-f42e-ef3529e2a8b5",
        "colab": {
          "base_uri": "https://localhost:8080/"
        }
      },
      "source": [
        "#Q2 code goes here\n",
        "#......\n",
        "2**2**3**1"
      ],
      "execution_count": 2,
      "outputs": [
        {
          "output_type": "execute_result",
          "data": {
            "text/plain": [
              "256"
            ]
          },
          "metadata": {
            "tags": []
          },
          "execution_count": 2
        }
      ]
    },
    {
      "cell_type": "code",
      "metadata": {
        "id": "Kmx45kx--akf"
      },
      "source": [
        "#Q3 code goes here\n",
        "#......\n",
        "]"
      ],
      "execution_count": null,
      "outputs": []
    },
    {
      "cell_type": "code",
      "metadata": {
        "id": "7Y7EBhQ1-fyS",
        "outputId": "7d69fa9d-2b7f-457a-95c9-262957e70618",
        "colab": {
          "base_uri": "https://localhost:8080/"
        }
      },
      "source": [
        "#Q4 code goes here\n",
        "#......\n",
        "s1 = {'Alex', 2, 3} \n",
        "s2 = {3, 4, 5, 'Alix'}\n",
        "#all of the statments give the right answer exept for this(it also has type error)\n",
        "s1 | [3, 4, 5, 'Alix']\n"
      ],
      "execution_count": 5,
      "outputs": [
        {
          "output_type": "execute_result",
          "data": {
            "text/plain": [
              "{2, 3, 4, 5, 'Alex', 'Alix'}"
            ]
          },
          "metadata": {
            "tags": []
          },
          "execution_count": 5
        }
      ]
    },
    {
      "cell_type": "code",
      "metadata": {
        "id": "MA7g7GDj-g9v",
        "outputId": "137b0ba2-22f5-4235-f115-cf08c05e3fa5",
        "colab": {
          "base_uri": "https://localhost:8080/",
          "height": 134
        }
      },
      "source": [
        "#Q5 code goes here\n",
        "#......\n",
        "scores= {'Mohammad' : 97 , 'ahmad':98}\n",
        "if scores ['Mohammad']>97\n",
        "print('scholar')\n",
        "elif scores ['ahmad']>97\n",
        "print('Topper')\n",
        "elif scores ['alex']>97\n",
        "print('Teacher')\n",
        "else: print('Nobody topped')\n"
      ],
      "execution_count": 10,
      "outputs": [
        {
          "output_type": "error",
          "ename": "SyntaxError",
          "evalue": "ignored",
          "traceback": [
            "\u001b[0;36m  File \u001b[0;32m\"<ipython-input-10-6be46505a235>\"\u001b[0;36m, line \u001b[0;32m4\u001b[0m\n\u001b[0;31m    if scores ['Mohammad']>97\u001b[0m\n\u001b[0m                             ^\u001b[0m\n\u001b[0;31mSyntaxError\u001b[0m\u001b[0;31m:\u001b[0m invalid syntax\n"
          ]
        }
      ]
    },
    {
      "cell_type": "code",
      "metadata": {
        "id": "I12X4np--iIn",
        "outputId": "8cd98b6b-8783-4544-f2a9-f79be717f85d",
        "colab": {
          "base_uri": "https://localhost:8080/"
        }
      },
      "source": [
        "#Q6 code goes here\n",
        "#......\n",
        "L= ['one' , 'two', 'three', 4]\n",
        "L+='five'\n",
        "print(L)"
      ],
      "execution_count": 13,
      "outputs": [
        {
          "output_type": "stream",
          "text": [
            "['one', 'two', 'three', 4, 'f', 'i', 'v', 'e']\n"
          ],
          "name": "stdout"
        }
      ]
    },
    {
      "cell_type": "code",
      "metadata": {
        "id": "0OgudXbC-jRf",
        "outputId": "855359bb-b929-4bc6-f7d5-f8282ef0e4af",
        "colab": {
          "base_uri": "https://localhost:8080/",
          "height": 204
        }
      },
      "source": [
        "#Q7 code goes here\n",
        "#......\n",
        "from random import randint\n",
        "for i in range (5,15,5):\n",
        "  print(random(1,5))"
      ],
      "execution_count": 15,
      "outputs": [
        {
          "output_type": "error",
          "ename": "NameError",
          "evalue": "ignored",
          "traceback": [
            "\u001b[0;31m---------------------------------------------------------------------------\u001b[0m",
            "\u001b[0;31mNameError\u001b[0m                                 Traceback (most recent call last)",
            "\u001b[0;32m<ipython-input-15-44a5a1af1d24>\u001b[0m in \u001b[0;36m<module>\u001b[0;34m()\u001b[0m\n\u001b[1;32m      3\u001b[0m \u001b[0;32mfrom\u001b[0m \u001b[0mrandom\u001b[0m \u001b[0;32mimport\u001b[0m \u001b[0mrandint\u001b[0m\u001b[0;34m\u001b[0m\u001b[0;34m\u001b[0m\u001b[0m\n\u001b[1;32m      4\u001b[0m \u001b[0;32mfor\u001b[0m \u001b[0mi\u001b[0m \u001b[0;32min\u001b[0m \u001b[0mrange\u001b[0m \u001b[0;34m(\u001b[0m\u001b[0;36m5\u001b[0m\u001b[0;34m,\u001b[0m\u001b[0;36m15\u001b[0m\u001b[0;34m,\u001b[0m\u001b[0;36m5\u001b[0m\u001b[0;34m)\u001b[0m\u001b[0;34m:\u001b[0m\u001b[0;34m\u001b[0m\u001b[0;34m\u001b[0m\u001b[0m\n\u001b[0;32m----> 5\u001b[0;31m   \u001b[0mprint\u001b[0m\u001b[0;34m(\u001b[0m\u001b[0mrandom\u001b[0m\u001b[0;34m(\u001b[0m\u001b[0;36m1\u001b[0m\u001b[0;34m,\u001b[0m\u001b[0;36m5\u001b[0m\u001b[0;34m)\u001b[0m\u001b[0;34m)\u001b[0m\u001b[0;34m\u001b[0m\u001b[0;34m\u001b[0m\u001b[0m\n\u001b[0m",
            "\u001b[0;31mNameError\u001b[0m: name 'random' is not defined"
          ]
        }
      ]
    },
    {
      "cell_type": "code",
      "metadata": {
        "id": "GAXrIcIi-kqq"
      },
      "source": [
        "#Q8 code goes here\n",
        "#......\n",
        "def func(a,b,c,d=1):\n",
        "  return d**(a*25)\n",
        "  "
      ],
      "execution_count": 19,
      "outputs": []
    },
    {
      "cell_type": "code",
      "metadata": {
        "id": "jD4NfJXuPCA9",
        "outputId": "206d1936-1f3c-4f6e-8c87-53ae9f52cea1",
        "colab": {
          "base_uri": "https://localhost:8080/"
        }
      },
      "source": [
        "func(4,5,6,2)"
      ],
      "execution_count": 21,
      "outputs": [
        {
          "output_type": "execute_result",
          "data": {
            "text/plain": [
              "1267650600228229401496703205376"
            ]
          },
          "metadata": {
            "tags": []
          },
          "execution_count": 21
        }
      ]
    },
    {
      "cell_type": "code",
      "metadata": {
        "id": "s9brnp6X-oLW",
        "outputId": "44408eb5-8690-4da6-ce1a-764e62f96f46",
        "colab": {
          "base_uri": "https://localhost:8080/"
        }
      },
      "source": [
        "#Q9 code goes here\n",
        "#......\n",
        "l = list()\n",
        "l.append([1,2,[3,4]])\n",
        "l.extend([5,6,7])\n",
        "l.insert(0,['hello'])\n",
        "print(l)\n",
        "\n"
      ],
      "execution_count": 27,
      "outputs": [
        {
          "output_type": "stream",
          "text": [
            "[['hello'], [1, 2, [3, 4]], 5, 6, 7]\n"
          ],
          "name": "stdout"
        }
      ]
    },
    {
      "cell_type": "code",
      "metadata": {
        "id": "dRg-t5kh-qfd",
        "outputId": "54245bfa-d677-495e-de7b-6824ff9328b2",
        "colab": {
          "base_uri": "https://localhost:8080/"
        }
      },
      "source": [
        "#Q10 code goes here\n",
        "#......\n",
        "i=12\n",
        "while i>0:\n",
        "  i-=3\n",
        "  print('o')\n",
        "  if i<=2:\n",
        "    break\n",
        "else:\n",
        "       print('o')"
      ],
      "execution_count": 26,
      "outputs": [
        {
          "output_type": "stream",
          "text": [
            "o\n",
            "o\n",
            "o\n",
            "o\n"
          ],
          "name": "stdout"
        }
      ]
    },
    {
      "cell_type": "code",
      "metadata": {
        "id": "Oeyo6Kl7-tCz",
        "outputId": "e6b17598-fc4a-4c9a-940c-690464477249",
        "colab": {
          "base_uri": "https://localhost:8080/",
          "height": 134
        }
      },
      "source": [
        "#Q11 code goes here\n",
        "#......\n",
        "a={1, 2, #comment 3, 4}\n"
      ],
      "execution_count": 32,
      "outputs": [
        {
          "output_type": "error",
          "ename": "SyntaxError",
          "evalue": "ignored",
          "traceback": [
            "\u001b[0;36m  File \u001b[0;32m\"<ipython-input-32-25d7f46dd985>\"\u001b[0;36m, line \u001b[0;32m3\u001b[0m\n\u001b[0;31m    a={1, 2, #comment 3, 4}\u001b[0m\n\u001b[0m                           ^\u001b[0m\n\u001b[0;31mSyntaxError\u001b[0m\u001b[0;31m:\u001b[0m unexpected EOF while parsing\n"
          ]
        }
      ]
    },
    {
      "cell_type": "code",
      "metadata": {
        "id": "GVUAcq57-xSu",
        "outputId": "d7915e89-5072-4419-84f5-1435a957d25d",
        "colab": {
          "base_uri": "https://localhost:8080/"
        }
      },
      "source": [
        "#Q12 code goes here\n",
        "#......\n",
        "a = [1, 2, 7, 8] \n",
        "a[2:2] = [3, 4, 5, 6]\n",
        "print(a)\n"
      ],
      "execution_count": 35,
      "outputs": [
        {
          "output_type": "stream",
          "text": [
            "[1, 2, 3, 4, 5, 6, 7, 8]\n"
          ],
          "name": "stdout"
        }
      ]
    },
    {
      "cell_type": "code",
      "metadata": {
        "id": "SslQL8cyRhxN",
        "outputId": "74812f11-bada-4820-8531-eb42a85e4527",
        "colab": {
          "base_uri": "https://localhost:8080/"
        }
      },
      "source": [
        "shopping ={'meat','milk','cheeses'}\n",
        "shopping.discard('milk')\n",
        "\n",
        "print(shopping)\n"
      ],
      "execution_count": 45,
      "outputs": [
        {
          "output_type": "stream",
          "text": [
            "{'cheeses', 'meat'}\n"
          ],
          "name": "stdout"
        }
      ]
    },
    {
      "cell_type": "code",
      "metadata": {
        "id": "LK2C5wfXSRdx"
      },
      "source": [
        ""
      ],
      "execution_count": null,
      "outputs": []
    }
  ]
}